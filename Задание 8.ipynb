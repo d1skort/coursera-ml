{
 "cells": [
  {
   "cell_type": "code",
   "execution_count": 140,
   "metadata": {
    "collapsed": true
   },
   "outputs": [],
   "source": [
    "import math\n",
    "import numpy as np\n",
    "import pandas as pd\n",
    "from sklearn.metrics import roc_auc_score"
   ]
  },
  {
   "cell_type": "code",
   "execution_count": 141,
   "metadata": {
    "collapsed": false
   },
   "outputs": [],
   "source": [
    "data = pd.read_csv('data-logistic.csv', header=None).as_matrix()\n",
    "X, y = data[:, 1:], data[:, 0]"
   ]
  },
  {
   "cell_type": "code",
   "execution_count": 278,
   "metadata": {
    "collapsed": false
   },
   "outputs": [],
   "source": [
    "def grad(weights, X, y, C, k):\n",
    "    \n",
    "    def dist(w1, w2):\n",
    "        s = 0\n",
    "        for i in range(len(w1)):\n",
    "            delta = w1[i] - w2[i]\n",
    "            s += (delta * delta)\n",
    "        return math.sqrt(s)\n",
    "    \n",
    "    def step():\n",
    "        new = np.array([0, 0], dtype=float)\n",
    "        \n",
    "        for w in range(len(weights)):\n",
    "            \n",
    "            s = 0\n",
    "            for i in range(llen):\n",
    "                inner_sum = 0\n",
    "                for j in range(len(weights)):\n",
    "                    inner_sum += (weights[j] * X[i, j])\n",
    "                s += (y[i] * X[i, w] * (1 - (1 / (1 + math.exp(-y[i] * inner_sum)))))\n",
    "            \n",
    "            new[w] = weights[w] + k * s / llen - k * C * weights[w]\n",
    "        \n",
    "        return new\n",
    "    \n",
    "    llen = len(X)\n",
    "    \n",
    "    for _ in range(10000):\n",
    "        new_weights = step()\n",
    "        if dist(weights, new_weights) < 1e-5:\n",
    "            return new_weights\n",
    "        weights = np.copy(new_weights)\n",
    "\n",
    "def predict_proba(weights, Xi):\n",
    "    s = 0\n",
    "    for i in range(len(Xi)):\n",
    "        s -= weights[i] * Xi[i]\n",
    "    return 1 / (1 + math.exp(s))"
   ]
  },
  {
   "cell_type": "code",
   "execution_count": 279,
   "metadata": {
    "collapsed": false
   },
   "outputs": [],
   "source": [
    "weights_L0 = grad(np.array([0, 0], dtype=float), X, y, 0, 0.1)\n",
    "weights_L2 = grad(np.array([0, 0], dtype=float), X, y, 10, 0.1)"
   ]
  },
  {
   "cell_type": "code",
   "execution_count": 280,
   "metadata": {
    "collapsed": false
   },
   "outputs": [
    {
     "name": "stdout",
     "output_type": "stream",
     "text": [
      "[ 0.28781162  0.0919833 ]\n",
      "[ 0.02855875  0.02478014]\n"
     ]
    }
   ],
   "source": [
    "print(weights_L0)\n",
    "print(weights_L2)"
   ]
  },
  {
   "cell_type": "code",
   "execution_count": 281,
   "metadata": {
    "collapsed": false
   },
   "outputs": [],
   "source": [
    "roc_auc_score_L0 = roc_auc_score(y, list(map(lambda x: predict_proba(weights_L0, x), X)))\n",
    "roc_auc_score_L2 = roc_auc_score(y, list(map(lambda x: predict_proba(weights_L2, x), X)))"
   ]
  },
  {
   "cell_type": "code",
   "execution_count": 282,
   "metadata": {
    "collapsed": false
   },
   "outputs": [
    {
     "name": "stdout",
     "output_type": "stream",
     "text": [
      "0.926857142857 0.936285714286\n"
     ]
    }
   ],
   "source": [
    "print(roc_auc_score_L0, roc_auc_score_L2)"
   ]
  },
  {
   "cell_type": "code",
   "execution_count": 283,
   "metadata": {
    "collapsed": false
   },
   "outputs": [
    {
     "name": "stdout",
     "output_type": "stream",
     "text": [
      "0.927 0.936\n"
     ]
    }
   ],
   "source": [
    "print(\"{:.3f} {:.3f}\".format(roc_auc_score_L0, roc_auc_score_L2))"
   ]
  },
  {
   "cell_type": "code",
   "execution_count": 284,
   "metadata": {
    "collapsed": true
   },
   "outputs": [],
   "source": [
    "with open('answer.txt', 'w') as f:\n",
    "    f.write(\"{:.3f} {:.3f}\".format(roc_auc_score_L0, roc_auc_score_L2))"
   ]
  },
  {
   "cell_type": "code",
   "execution_count": null,
   "metadata": {
    "collapsed": true
   },
   "outputs": [],
   "source": [
    "# I think I messed up somewhere!"
   ]
  }
 ],
 "metadata": {
  "anaconda-cloud": {},
  "kernelspec": {
   "display_name": "Python [default]",
   "language": "python",
   "name": "python3"
  },
  "language_info": {
   "codemirror_mode": {
    "name": "ipython",
    "version": 3
   },
   "file_extension": ".py",
   "mimetype": "text/x-python",
   "name": "python",
   "nbconvert_exporter": "python",
   "pygments_lexer": "ipython3",
   "version": "3.5.2"
  }
 },
 "nbformat": 4,
 "nbformat_minor": 1
}
