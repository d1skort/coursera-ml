{
 "cells": [
  {
   "cell_type": "code",
   "execution_count": 56,
   "metadata": {
    "collapsed": true
   },
   "outputs": [],
   "source": [
    "import pandas as pd\n",
    "from sklearn.metrics import (\n",
    "    accuracy_score,\n",
    "    precision_score,\n",
    "    recall_score,\n",
    "    f1_score,\n",
    "    roc_auc_score,\n",
    "    precision_recall_curve\n",
    ")"
   ]
  },
  {
   "cell_type": "code",
   "execution_count": 4,
   "metadata": {
    "collapsed": false
   },
   "outputs": [],
   "source": [
    "data = pd.read_csv('classification.csv')"
   ]
  },
  {
   "cell_type": "code",
   "execution_count": 24,
   "metadata": {
    "collapsed": false
   },
   "outputs": [],
   "source": [
    "fp = fn = tp = tn = 0\n",
    "for row in data.iterrows():\n",
    "    true, pred = row[1]['true'], row[1]['pred']\n",
    "    if true == pred:\n",
    "        if true == 1:\n",
    "            tp += 1\n",
    "        else:\n",
    "            tn += 1\n",
    "    else:\n",
    "        if pred == 1:\n",
    "            fp += 1\n",
    "        else:\n",
    "            fn += 1"
   ]
  },
  {
   "cell_type": "code",
   "execution_count": 26,
   "metadata": {
    "collapsed": false
   },
   "outputs": [],
   "source": [
    "with open('answer1.txt', 'w') as f:\n",
    "    f.write('{} {} {} {}'.format(tp, fp, fn, tn))"
   ]
  },
  {
   "cell_type": "code",
   "execution_count": 31,
   "metadata": {
    "collapsed": false
   },
   "outputs": [],
   "source": [
    "scores = []\n",
    "for score in (accuracy_score, precision_score, recall_score, f1_score):\n",
    "    scores.append(score(data['true'], data['pred']))"
   ]
  },
  {
   "cell_type": "code",
   "execution_count": 35,
   "metadata": {
    "collapsed": false
   },
   "outputs": [],
   "source": [
    "with open('answer2.txt', 'w') as f:\n",
    "    f.write(\"{:.2f} {:.2f} {:.2f} {:.2f}\".format(*scores))"
   ]
  },
  {
   "cell_type": "code",
   "execution_count": 45,
   "metadata": {
    "collapsed": false
   },
   "outputs": [],
   "source": [
    "data2 = pd.read_csv('scores.csv')"
   ]
  },
  {
   "cell_type": "code",
   "execution_count": 46,
   "metadata": {
    "collapsed": false
   },
   "outputs": [],
   "source": [
    "clf_scores = []\n",
    "for clf in data2.columns[1:]:\n",
    "    clf_scores.append({clf: roc_auc_score(data2['true'], data2[clf])})"
   ]
  },
  {
   "cell_type": "code",
   "execution_count": 52,
   "metadata": {
    "collapsed": false
   },
   "outputs": [
    {
     "data": {
      "text/plain": [
       "[{'score_logreg': 0.71918767507002801},\n",
       " {'score_svm': 0.70868347338935567},\n",
       " {'score_knn': 0.63515406162464982},\n",
       " {'score_tree': 0.69192677070828335}]"
      ]
     },
     "execution_count": 52,
     "metadata": {},
     "output_type": "execute_result"
    }
   ],
   "source": [
    "clf_scores"
   ]
  },
  {
   "cell_type": "code",
   "execution_count": 53,
   "metadata": {
    "collapsed": true
   },
   "outputs": [],
   "source": [
    "with open('answer3.txt', 'w') as f:\n",
    "    f.write('score_logreg')"
   ]
  },
  {
   "cell_type": "code",
   "execution_count": 63,
   "metadata": {
    "collapsed": false
   },
   "outputs": [],
   "source": [
    "pr_points = {}\n",
    "for clf in data2.columns[1:]:\n",
    "    pr_points[clf] = precision_recall_curve(data2['true'], data2[clf])"
   ]
  },
  {
   "cell_type": "code",
   "execution_count": 70,
   "metadata": {
    "collapsed": false
   },
   "outputs": [],
   "source": [
    "max_precisions = {}\n",
    "for clf in pr_points:\n",
    "    precision, recall, thresholds = pr_points[clf]\n",
    "    max_precision = 0\n",
    "    for i in range(len(precision)):\n",
    "        if recall[i] >= 0.7 and precision[i] > max_precision:\n",
    "            max_precision = precision[i]\n",
    "    max_precisions[clf] = max_precision"
   ]
  },
  {
   "cell_type": "code",
   "execution_count": 71,
   "metadata": {
    "collapsed": false
   },
   "outputs": [
    {
     "data": {
      "text/plain": [
       "{'score_knn': 0.60655737704918034,\n",
       " 'score_logreg': 0.63025210084033612,\n",
       " 'score_svm': 0.6228070175438597,\n",
       " 'score_tree': 0.6517857142857143}"
      ]
     },
     "execution_count": 71,
     "metadata": {},
     "output_type": "execute_result"
    }
   ],
   "source": [
    "max_precisions"
   ]
  },
  {
   "cell_type": "code",
   "execution_count": 72,
   "metadata": {
    "collapsed": true
   },
   "outputs": [],
   "source": [
    "with open('answer4.txt', 'w') as f:\n",
    "    f.write('score_tree')"
   ]
  },
  {
   "cell_type": "code",
   "execution_count": null,
   "metadata": {
    "collapsed": true
   },
   "outputs": [],
   "source": []
  }
 ],
 "metadata": {
  "anaconda-cloud": {},
  "kernelspec": {
   "display_name": "Python [default]",
   "language": "python",
   "name": "python3"
  },
  "language_info": {
   "codemirror_mode": {
    "name": "ipython",
    "version": 3
   },
   "file_extension": ".py",
   "mimetype": "text/x-python",
   "name": "python",
   "nbconvert_exporter": "python",
   "pygments_lexer": "ipython3",
   "version": "3.5.2"
  }
 },
 "nbformat": 4,
 "nbformat_minor": 1
}
