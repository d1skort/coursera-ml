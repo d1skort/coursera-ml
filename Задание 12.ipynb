{
 "cells": [
  {
   "cell_type": "code",
   "execution_count": 22,
   "metadata": {
    "collapsed": false
   },
   "outputs": [],
   "source": [
    "import pandas as pd\n",
    "from sklearn.ensemble import RandomForestRegressor\n",
    "from sklearn.model_selection import KFold\n",
    "from sklearn.metrics import r2_score"
   ]
  },
  {
   "cell_type": "code",
   "execution_count": 35,
   "metadata": {
    "collapsed": false
   },
   "outputs": [],
   "source": [
    "data = pd.read_csv('abalone.csv')\n",
    "data['Sex'] = data['Sex'].map(lambda x: 1 if x == 'M' else (-1 if x == 'F' else 0))\n",
    "X, y = data.iloc[:, :-1], data.iloc[:, -1]"
   ]
  },
  {
   "cell_type": "code",
   "execution_count": 41,
   "metadata": {
    "collapsed": false
   },
   "outputs": [],
   "source": [
    "kf = KFold(n_splits=5, shuffle=True, random_state=1)\n",
    "scores = {}\n",
    "for n in range(1, 51):\n",
    "    clf = RandomForestRegressor(n_estimators=n)\n",
    "    for train_index, test_index in kf.split(X, y):\n",
    "        pass\n",
    "        X_train, X_test = X.iloc[train_index], X.iloc[test_index]\n",
    "        y_train, y_test = y.iloc[train_index], y.iloc[test_index]\n",
    "        clf.fit(X_train, y_train)\n",
    "        scores[n] = r2_score(y_test, clf.predict(X_test))"
   ]
  },
  {
   "cell_type": "code",
   "execution_count": 43,
   "metadata": {
    "collapsed": false
   },
   "outputs": [
    {
     "data": {
      "text/plain": [
       "{1: 0.18792337741135057,\n",
       " 2: 0.3029880106421895,\n",
       " 3: 0.35490475880332017,\n",
       " 4: 0.42644788463713867,\n",
       " 5: 0.44606560724679634,\n",
       " 6: 0.51369109035756844,\n",
       " 7: 0.46844255157222159,\n",
       " 8: 0.49495151589497088,\n",
       " 9: 0.50244518759342749,\n",
       " 10: 0.5128006411169892,\n",
       " 11: 0.4821432532545783,\n",
       " 12: 0.51206826603939193,\n",
       " 13: 0.50747993436460559,\n",
       " 14: 0.49751538534163398,\n",
       " 15: 0.52882709184495469,\n",
       " 16: 0.51433388425498805,\n",
       " 17: 0.52262239711687986,\n",
       " 18: 0.51531154835273818,\n",
       " 19: 0.52203346523703342,\n",
       " 20: 0.52162645422933007,\n",
       " 21: 0.52512285282329163,\n",
       " 22: 0.52197456636147388,\n",
       " 23: 0.52468665851357454,\n",
       " 24: 0.52270458033370859,\n",
       " 25: 0.52802577748656876,\n",
       " 26: 0.53358600060539263,\n",
       " 27: 0.52736136991977867,\n",
       " 28: 0.5278019341908563,\n",
       " 29: 0.54061255666393992,\n",
       " 30: 0.53484760820889621,\n",
       " 31: 0.53691788280490149,\n",
       " 32: 0.52645247659143446,\n",
       " 33: 0.53120592017671542,\n",
       " 34: 0.54408044733739203,\n",
       " 35: 0.53251754507443461,\n",
       " 36: 0.52675858857247104,\n",
       " 37: 0.53728949707400575,\n",
       " 38: 0.533340614995506,\n",
       " 39: 0.53803569823640496,\n",
       " 40: 0.52932462166899041,\n",
       " 41: 0.52630663720731796,\n",
       " 42: 0.51811437972095198,\n",
       " 43: 0.54506060285641977,\n",
       " 44: 0.53968969975180769,\n",
       " 45: 0.53522659850169174,\n",
       " 46: 0.53903993971141517,\n",
       " 47: 0.53212208815879281,\n",
       " 48: 0.52151759721856994,\n",
       " 49: 0.53450573397137757,\n",
       " 50: 0.53767918499986045}"
      ]
     },
     "execution_count": 43,
     "metadata": {},
     "output_type": "execute_result"
    }
   ],
   "source": [
    "scores"
   ]
  },
  {
   "cell_type": "code",
   "execution_count": 46,
   "metadata": {
    "collapsed": false
   },
   "outputs": [],
   "source": [
    "with open('answer.txt', 'w') as f:\n",
    "    f.write('26')"
   ]
  },
  {
   "cell_type": "code",
   "execution_count": null,
   "metadata": {
    "collapsed": true
   },
   "outputs": [],
   "source": []
  }
 ],
 "metadata": {
  "anaconda-cloud": {},
  "kernelspec": {
   "display_name": "Python [default]",
   "language": "python",
   "name": "python3"
  },
  "language_info": {
   "codemirror_mode": {
    "name": "ipython",
    "version": 3
   },
   "file_extension": ".py",
   "mimetype": "text/x-python",
   "name": "python",
   "nbconvert_exporter": "python",
   "pygments_lexer": "ipython3",
   "version": "3.5.2"
  }
 },
 "nbformat": 4,
 "nbformat_minor": 1
}
